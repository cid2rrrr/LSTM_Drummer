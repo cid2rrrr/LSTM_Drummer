{
 "cells": [
  {
   "cell_type": "code",
   "execution_count": 38,
   "metadata": {},
   "outputs": [],
   "source": [
    "import tensorflow as tf\n",
    "import numpy as np\n",
    "import pandas as pd\n",
    "\n",
    "from tensorflow.keras.layers import Dense, LSTM, Input, TimeDistributed\n",
    "from tensorflow.keras.models import Model"
   ]
  },
  {
   "cell_type": "code",
   "execution_count": 39,
   "metadata": {},
   "outputs": [
    {
     "name": "stdout",
     "output_type": "stream",
     "text": [
      "WARNING:tensorflow:Layer lstm_2 will not use cuDNN kernels since it doesn't meet the criteria. It will use a generic GPU kernel as fallback when running on GPU.\n"
     ]
    }
   ],
   "source": [
    "lstm = LSTM(units=32, return_sequences=True, activation='sigmoid', input_shape=(9,32))"
   ]
  },
  {
   "cell_type": "code",
   "execution_count": 40,
   "metadata": {},
   "outputs": [
    {
     "ename": "NameError",
     "evalue": "name 'a' is not defined",
     "output_type": "error",
     "traceback": [
      "\u001b[0;31m---------------------------------------------------------------------------\u001b[0m",
      "\u001b[0;31mNameError\u001b[0m                                 Traceback (most recent call last)",
      "\u001b[0;32m/var/folders/wn/fhcj6_9d2qb5d0pw_xw20ky80000gn/T/ipykernel_1768/2145830305.py\u001b[0m in \u001b[0;36m<cell line: 1>\u001b[0;34m()\u001b[0m\n\u001b[0;32m----> 1\u001b[0;31m \u001b[0mlstm\u001b[0m\u001b[0;34m(\u001b[0m\u001b[0ma\u001b[0m\u001b[0;34m)\u001b[0m\u001b[0;34m\u001b[0m\u001b[0;34m\u001b[0m\u001b[0m\n\u001b[0m",
      "\u001b[0;31mNameError\u001b[0m: name 'a' is not defined"
     ]
    }
   ],
   "source": [
    "lstm(a)"
   ]
  },
  {
   "cell_type": "code",
   "execution_count": 41,
   "metadata": {},
   "outputs": [],
   "source": [
    "train=[]\n",
    "test=[]\n",
    "\n",
    "for i in range(1,1001):\n",
    "    train.append(pd.read_csv('./masked_dataset/beat/'+str(i)+'.csv.gzip', compression='gzip').to_numpy())\n",
    "    test.append(pd.read_csv('./dataset/beat/'+str(i)+'.csv.gzip', compression='gzip').to_numpy())\n",
    "    "
   ]
  },
  {
   "cell_type": "code",
   "execution_count": 42,
   "metadata": {},
   "outputs": [],
   "source": [
    "train = np.array(train)\n",
    "test = np.array(test)"
   ]
  },
  {
   "cell_type": "code",
   "execution_count": 43,
   "metadata": {},
   "outputs": [
    {
     "data": {
      "text/plain": [
       "(1000, 9, 32)"
      ]
     },
     "execution_count": 43,
     "metadata": {},
     "output_type": "execute_result"
    }
   ],
   "source": [
    "train.shape"
   ]
  },
  {
   "cell_type": "code",
   "execution_count": 44,
   "metadata": {},
   "outputs": [],
   "source": [
    "model = tf.keras.models.Sequential()"
   ]
  },
  {
   "cell_type": "code",
   "execution_count": 45,
   "metadata": {},
   "outputs": [
    {
     "name": "stdout",
     "output_type": "stream",
     "text": [
      "WARNING:tensorflow:Layer lstm_3 will not use cuDNN kernels since it doesn't meet the criteria. It will use a generic GPU kernel as fallback when running on GPU.\n"
     ]
    }
   ],
   "source": [
    "# model.add(Input(shape=(9,32)))\n",
    "model.add(LSTM(units=32, return_sequences=True, activation='sigmoid', input_shape=(9,32)))"
   ]
  },
  {
   "cell_type": "code",
   "execution_count": 46,
   "metadata": {},
   "outputs": [],
   "source": [
    "model.compile(loss = tf.keras.losses.mse, optimizer='adam')"
   ]
  },
  {
   "cell_type": "code",
   "execution_count": 47,
   "metadata": {},
   "outputs": [
    {
     "name": "stdout",
     "output_type": "stream",
     "text": [
      "Epoch 1/100\n"
     ]
    },
    {
     "name": "stderr",
     "output_type": "stream",
     "text": [
      "2022-08-03 14:13:11.642916: I tensorflow/core/grappler/optimizers/custom_graph_optimizer_registry.cc:113] Plugin optimizer for device_type GPU is enabled.\n"
     ]
    },
    {
     "name": "stdout",
     "output_type": "stream",
     "text": [
      "32/32 [==============================] - 3s 85ms/step - loss: 0.1487\n",
      "Epoch 2/100\n",
      "32/32 [==============================] - 3s 83ms/step - loss: 0.1290\n",
      "Epoch 3/100\n",
      "32/32 [==============================] - 3s 83ms/step - loss: 0.1179\n",
      "Epoch 4/100\n",
      "32/32 [==============================] - 3s 83ms/step - loss: 0.1103\n",
      "Epoch 5/100\n",
      "32/32 [==============================] - 3s 83ms/step - loss: 0.1047\n",
      "Epoch 6/100\n",
      "32/32 [==============================] - 3s 94ms/step - loss: 0.1005\n",
      "Epoch 7/100\n",
      "32/32 [==============================] - 3s 82ms/step - loss: 0.0970\n",
      "Epoch 8/100\n",
      "32/32 [==============================] - 3s 81ms/step - loss: 0.0942\n",
      "Epoch 9/100\n",
      "32/32 [==============================] - 3s 82ms/step - loss: 0.0916\n",
      "Epoch 10/100\n",
      "32/32 [==============================] - 3s 83ms/step - loss: 0.0893\n",
      "Epoch 11/100\n",
      "32/32 [==============================] - 3s 85ms/step - loss: 0.0872\n",
      "Epoch 12/100\n",
      "32/32 [==============================] - 3s 83ms/step - loss: 0.0852\n",
      "Epoch 13/100\n",
      "32/32 [==============================] - 3s 81ms/step - loss: 0.0834\n",
      "Epoch 14/100\n",
      "32/32 [==============================] - 3s 83ms/step - loss: 0.0816\n",
      "Epoch 15/100\n",
      "32/32 [==============================] - 3s 82ms/step - loss: 0.0799\n",
      "Epoch 16/100\n",
      "32/32 [==============================] - 3s 83ms/step - loss: 0.0783\n",
      "Epoch 17/100\n",
      "32/32 [==============================] - 3s 83ms/step - loss: 0.0768\n",
      "Epoch 18/100\n",
      "32/32 [==============================] - 3s 83ms/step - loss: 0.0753\n",
      "Epoch 19/100\n",
      "32/32 [==============================] - 3s 81ms/step - loss: 0.0739\n",
      "Epoch 20/100\n",
      "32/32 [==============================] - 3s 83ms/step - loss: 0.0726\n",
      "Epoch 21/100\n",
      "32/32 [==============================] - 3s 83ms/step - loss: 0.0713\n",
      "Epoch 22/100\n",
      "32/32 [==============================] - 3s 82ms/step - loss: 0.0700\n",
      "Epoch 23/100\n",
      "32/32 [==============================] - 3s 81ms/step - loss: 0.0688\n",
      "Epoch 24/100\n",
      "32/32 [==============================] - 3s 82ms/step - loss: 0.0676\n",
      "Epoch 25/100\n",
      "32/32 [==============================] - 3s 84ms/step - loss: 0.0665\n",
      "Epoch 26/100\n",
      "32/32 [==============================] - 3s 82ms/step - loss: 0.0654\n",
      "Epoch 27/100\n",
      "32/32 [==============================] - 3s 83ms/step - loss: 0.0643\n",
      "Epoch 28/100\n",
      "32/32 [==============================] - 3s 83ms/step - loss: 0.0633\n",
      "Epoch 29/100\n",
      "32/32 [==============================] - 3s 82ms/step - loss: 0.0623\n",
      "Epoch 30/100\n",
      "32/32 [==============================] - 3s 82ms/step - loss: 0.0614\n",
      "Epoch 31/100\n",
      "32/32 [==============================] - 3s 83ms/step - loss: 0.0604\n",
      "Epoch 32/100\n",
      "32/32 [==============================] - 3s 83ms/step - loss: 0.0595\n",
      "Epoch 33/100\n",
      "32/32 [==============================] - 3s 83ms/step - loss: 0.0587\n",
      "Epoch 34/100\n",
      "32/32 [==============================] - 3s 84ms/step - loss: 0.0578\n",
      "Epoch 35/100\n",
      "32/32 [==============================] - 3s 83ms/step - loss: 0.0570\n",
      "Epoch 36/100\n",
      "32/32 [==============================] - 3s 84ms/step - loss: 0.0562\n",
      "Epoch 37/100\n",
      "32/32 [==============================] - 3s 83ms/step - loss: 0.0554\n",
      "Epoch 38/100\n",
      "32/32 [==============================] - 3s 81ms/step - loss: 0.0547\n",
      "Epoch 39/100\n",
      "32/32 [==============================] - 3s 83ms/step - loss: 0.0539\n",
      "Epoch 40/100\n",
      "32/32 [==============================] - 3s 83ms/step - loss: 0.0532\n",
      "Epoch 41/100\n",
      "32/32 [==============================] - 3s 84ms/step - loss: 0.0525\n",
      "Epoch 42/100\n",
      "32/32 [==============================] - 3s 83ms/step - loss: 0.0518\n",
      "Epoch 43/100\n",
      "32/32 [==============================] - 3s 84ms/step - loss: 0.0512\n",
      "Epoch 44/100\n",
      "32/32 [==============================] - 3s 83ms/step - loss: 0.0505\n",
      "Epoch 45/100\n",
      "32/32 [==============================] - 3s 84ms/step - loss: 0.0499\n",
      "Epoch 46/100\n",
      "32/32 [==============================] - 3s 84ms/step - loss: 0.0493\n",
      "Epoch 47/100\n",
      "32/32 [==============================] - 3s 84ms/step - loss: 0.0487\n",
      "Epoch 48/100\n",
      "32/32 [==============================] - 3s 85ms/step - loss: 0.0481\n",
      "Epoch 49/100\n",
      "32/32 [==============================] - 3s 85ms/step - loss: 0.0475\n",
      "Epoch 50/100\n",
      "32/32 [==============================] - 3s 84ms/step - loss: 0.0469\n",
      "Epoch 51/100\n",
      "32/32 [==============================] - 3s 86ms/step - loss: 0.0464\n",
      "Epoch 52/100\n",
      "32/32 [==============================] - 3s 86ms/step - loss: 0.0458\n",
      "Epoch 53/100\n",
      "32/32 [==============================] - 3s 85ms/step - loss: 0.0453\n",
      "Epoch 54/100\n",
      "32/32 [==============================] - 3s 84ms/step - loss: 0.0448\n",
      "Epoch 55/100\n",
      "32/32 [==============================] - 3s 87ms/step - loss: 0.0443\n",
      "Epoch 56/100\n",
      "32/32 [==============================] - 3s 86ms/step - loss: 0.0438\n",
      "Epoch 57/100\n",
      "32/32 [==============================] - 3s 86ms/step - loss: 0.0433\n",
      "Epoch 58/100\n",
      "32/32 [==============================] - 3s 87ms/step - loss: 0.0428\n",
      "Epoch 59/100\n",
      "32/32 [==============================] - 3s 86ms/step - loss: 0.0423\n",
      "Epoch 60/100\n",
      "32/32 [==============================] - 3s 88ms/step - loss: 0.0418\n",
      "Epoch 61/100\n",
      "32/32 [==============================] - 3s 95ms/step - loss: 0.0414\n",
      "Epoch 62/100\n",
      "32/32 [==============================] - 3s 85ms/step - loss: 0.0409\n",
      "Epoch 63/100\n",
      "32/32 [==============================] - 3s 88ms/step - loss: 0.0405\n",
      "Epoch 64/100\n",
      "32/32 [==============================] - 3s 87ms/step - loss: 0.0400\n",
      "Epoch 65/100\n",
      "32/32 [==============================] - 3s 86ms/step - loss: 0.0396\n",
      "Epoch 66/100\n",
      "32/32 [==============================] - 3s 84ms/step - loss: 0.0392\n",
      "Epoch 67/100\n",
      "32/32 [==============================] - 3s 87ms/step - loss: 0.0388\n",
      "Epoch 68/100\n",
      "32/32 [==============================] - 3s 86ms/step - loss: 0.0383\n",
      "Epoch 69/100\n",
      "32/32 [==============================] - 3s 88ms/step - loss: 0.0379\n",
      "Epoch 70/100\n",
      "32/32 [==============================] - 3s 88ms/step - loss: 0.0375\n",
      "Epoch 71/100\n",
      "32/32 [==============================] - 3s 91ms/step - loss: 0.0371\n",
      "Epoch 72/100\n",
      "32/32 [==============================] - 3s 91ms/step - loss: 0.0367\n",
      "Epoch 73/100\n",
      "32/32 [==============================] - 3s 95ms/step - loss: 0.0364\n",
      "Epoch 74/100\n",
      "32/32 [==============================] - 3s 92ms/step - loss: 0.0360\n",
      "Epoch 75/100\n",
      "32/32 [==============================] - 3s 92ms/step - loss: 0.0356\n",
      "Epoch 76/100\n",
      "32/32 [==============================] - 3s 94ms/step - loss: 0.0352\n",
      "Epoch 77/100\n",
      "32/32 [==============================] - 3s 88ms/step - loss: 0.0349\n",
      "Epoch 78/100\n",
      "32/32 [==============================] - 3s 92ms/step - loss: 0.0345\n",
      "Epoch 79/100\n",
      "32/32 [==============================] - 3s 93ms/step - loss: 0.0341\n",
      "Epoch 80/100\n",
      "32/32 [==============================] - 3s 91ms/step - loss: 0.0338\n",
      "Epoch 81/100\n",
      "32/32 [==============================] - 3s 91ms/step - loss: 0.0334\n",
      "Epoch 82/100\n",
      "32/32 [==============================] - 3s 91ms/step - loss: 0.0331\n",
      "Epoch 83/100\n",
      "32/32 [==============================] - 3s 90ms/step - loss: 0.0328\n",
      "Epoch 84/100\n",
      "32/32 [==============================] - 3s 91ms/step - loss: 0.0324\n",
      "Epoch 85/100\n",
      "32/32 [==============================] - 3s 94ms/step - loss: 0.0321\n",
      "Epoch 86/100\n",
      "32/32 [==============================] - 3s 87ms/step - loss: 0.0318\n",
      "Epoch 87/100\n",
      "32/32 [==============================] - 3s 91ms/step - loss: 0.0315\n",
      "Epoch 88/100\n",
      "32/32 [==============================] - 3s 89ms/step - loss: 0.0312\n",
      "Epoch 89/100\n",
      "32/32 [==============================] - 3s 87ms/step - loss: 0.0308\n",
      "Epoch 90/100\n",
      "32/32 [==============================] - 3s 90ms/step - loss: 0.0305\n",
      "Epoch 91/100\n",
      "32/32 [==============================] - 3s 91ms/step - loss: 0.0302\n",
      "Epoch 92/100\n",
      "32/32 [==============================] - 3s 90ms/step - loss: 0.0299\n",
      "Epoch 93/100\n",
      "32/32 [==============================] - 3s 90ms/step - loss: 0.0297\n",
      "Epoch 94/100\n",
      "32/32 [==============================] - 3s 89ms/step - loss: 0.0294\n",
      "Epoch 95/100\n",
      "32/32 [==============================] - 3s 90ms/step - loss: 0.0291\n",
      "Epoch 96/100\n",
      "32/32 [==============================] - 3s 89ms/step - loss: 0.0288\n",
      "Epoch 97/100\n",
      "32/32 [==============================] - 3s 89ms/step - loss: 0.0285\n",
      "Epoch 98/100\n",
      "32/32 [==============================] - 3s 88ms/step - loss: 0.0283\n",
      "Epoch 99/100\n",
      "32/32 [==============================] - 3s 89ms/step - loss: 0.0280\n",
      "Epoch 100/100\n",
      "32/32 [==============================] - 3s 88ms/step - loss: 0.0278\n"
     ]
    },
    {
     "data": {
      "text/plain": [
       "<keras.callbacks.History at 0x2c6923fa0>"
      ]
     },
     "execution_count": 47,
     "metadata": {},
     "output_type": "execute_result"
    }
   ],
   "source": [
    "model.fit(train,test, epochs=100)"
   ]
  },
  {
   "cell_type": "code",
   "execution_count": 48,
   "metadata": {},
   "outputs": [
    {
     "data": {
      "text/plain": [
       "array([[0, 1, 0, 0, 0, 1, 0, 0, 0, 0, 0, 0, 0, 1, 0, 0, 0, 0, 0, 0, 0, 1,\n",
       "        0, 0, 0, 1, 0, 0, 0, 1, 0, 0],\n",
       "       [0, 1, 0, 0, 1, 0, 0, 1, 0, 0, 1, 0, 1, 0, 0, 1, 0, 0, 1, 0, 1, 0,\n",
       "        0, 1, 0, 1, 1, 0, 1, 1, 0, 1],\n",
       "       [0, 0, 0, 0, 0, 0, 0, 0, 0, 0, 0, 0, 0, 0, 0, 0, 0, 0, 0, 0, 0, 0,\n",
       "        0, 0, 0, 0, 0, 0, 0, 0, 0, 0],\n",
       "       [0, 0, 0, 0, 0, 0, 0, 0, 0, 0, 0, 0, 0, 0, 0, 0, 0, 0, 0, 0, 0, 0,\n",
       "        0, 0, 0, 0, 0, 0, 0, 0, 0, 0],\n",
       "       [0, 0, 0, 0, 0, 0, 0, 0, 0, 0, 0, 0, 0, 0, 0, 0, 0, 0, 0, 0, 0, 0,\n",
       "        0, 0, 0, 0, 0, 0, 0, 0, 0, 0],\n",
       "       [0, 0, 0, 0, 0, 0, 0, 0, 0, 0, 0, 0, 0, 0, 0, 0, 0, 0, 0, 0, 0, 0,\n",
       "        0, 0, 0, 0, 0, 0, 0, 0, 0, 0],\n",
       "       [0, 0, 0, 1, 0, 0, 0, 1, 0, 0, 0, 1, 0, 0, 0, 1, 0, 0, 0, 1, 0, 0,\n",
       "        0, 1, 0, 0, 0, 1, 0, 0, 0, 1],\n",
       "       [0, 0, 0, 0, 0, 0, 0, 0, 0, 0, 0, 0, 0, 0, 0, 0, 0, 0, 0, 0, 0, 0,\n",
       "        0, 0, 0, 0, 0, 0, 0, 0, 0, 0],\n",
       "       [0, 1, 0, 1, 0, 1, 1, 0, 1, 0, 0, 1, 0, 1, 1, 0, 1, 0, 0, 1, 0, 1,\n",
       "        0, 0, 1, 1, 0, 1, 0, 1, 1, 0]])"
      ]
     },
     "execution_count": 48,
     "metadata": {},
     "output_type": "execute_result"
    }
   ],
   "source": [
    "train[0]"
   ]
  },
  {
   "cell_type": "code",
   "execution_count": 49,
   "metadata": {},
   "outputs": [
    {
     "name": "stdout",
     "output_type": "stream",
     "text": [
      "1/1 [==============================] - 0s 108ms/step\n"
     ]
    },
    {
     "name": "stderr",
     "output_type": "stream",
     "text": [
      "2022-08-03 14:17:47.820449: I tensorflow/core/grappler/optimizers/custom_graph_optimizer_registry.cc:113] Plugin optimizer for device_type GPU is enabled.\n"
     ]
    },
    {
     "data": {
      "text/plain": [
       "array([[[0., 1., 0., 0., 0., 1., 0., 0., 0., 1., 0., 0., 0., 1., 0., 0.,\n",
       "         0., 1., 0., 0., 0., 1., 0., 0., 0., 1., 0., 0., 0., 1., 0., 0.],\n",
       "        [0., 1., 0., 0., 1., 0., 0., 1., 0., 1., 1., 0., 1., 0., 0., 1.,\n",
       "         0., 1., 1., 0., 1., 0., 0., 1., 0., 1., 1., 0., 1., 1., 0., 1.],\n",
       "        [0., 0., 0., 0., 0., 0., 0., 0., 0., 0., 0., 0., 0., 0., 0., 0.,\n",
       "         0., 0., 0., 0., 0., 0., 0., 0., 0., 0., 0., 0., 0., 0., 0., 0.],\n",
       "        [0., 0., 0., 0., 0., 0., 0., 0., 0., 0., 0., 0., 0., 0., 0., 0.,\n",
       "         0., 0., 0., 0., 0., 0., 0., 0., 0., 0., 0., 0., 0., 0., 0., 0.],\n",
       "        [0., 0., 0., 0., 0., 0., 0., 0., 0., 0., 0., 0., 0., 0., 0., 0.,\n",
       "         0., 0., 0., 0., 0., 0., 0., 0., 0., 0., 0., 0., 0., 0., 0., 0.],\n",
       "        [0., 0., 0., 0., 0., 0., 0., 0., 0., 0., 0., 0., 0., 0., 0., 0.,\n",
       "         0., 0., 0., 0., 0., 0., 0., 0., 0., 0., 0., 0., 0., 0., 0., 0.],\n",
       "        [0., 0., 0., 1., 0., 0., 0., 1., 0., 0., 0., 1., 0., 0., 0., 1.,\n",
       "         0., 0., 0., 1., 0., 0., 0., 1., 0., 0., 0., 1., 0., 0., 0., 1.],\n",
       "        [0., 0., 0., 0., 0., 0., 0., 0., 0., 0., 0., 0., 0., 0., 0., 0.,\n",
       "         0., 0., 0., 0., 0., 0., 0., 0., 0., 0., 0., 0., 0., 0., 0., 0.],\n",
       "        [0., 1., 0., 1., 0., 1., 1., 0., 1., 1., 0., 1., 0., 1., 1., 0.,\n",
       "         1., 1., 0., 1., 0., 1., 1., 0., 1., 1., 0., 1., 0., 1., 1., 0.]]],\n",
       "      dtype=float32)"
      ]
     },
     "execution_count": 49,
     "metadata": {},
     "output_type": "execute_result"
    }
   ],
   "source": [
    "j = model.predict(np.expand_dims(test[0], axis=0))\n",
    "\n",
    "j.round()"
   ]
  },
  {
   "cell_type": "code",
   "execution_count": 50,
   "metadata": {},
   "outputs": [
    {
     "data": {
      "text/plain": [
       "array([[0, 1, 0, 0, 0, 1, 0, 0, 0, 1, 0, 0, 0, 1, 0, 0, 0, 1, 0, 0, 0, 1,\n",
       "        0, 0, 0, 1, 0, 0, 0, 1, 0, 0],\n",
       "       [0, 1, 0, 0, 1, 0, 0, 1, 0, 1, 1, 0, 1, 0, 0, 1, 0, 1, 1, 0, 1, 0,\n",
       "        0, 1, 0, 1, 1, 0, 1, 1, 0, 1],\n",
       "       [0, 0, 0, 0, 0, 0, 0, 0, 0, 0, 0, 0, 0, 0, 0, 0, 0, 0, 0, 0, 0, 0,\n",
       "        0, 0, 0, 0, 0, 0, 0, 0, 0, 0],\n",
       "       [0, 0, 0, 0, 0, 0, 0, 0, 0, 0, 0, 0, 0, 0, 0, 0, 0, 0, 0, 0, 0, 0,\n",
       "        0, 0, 0, 0, 0, 0, 0, 0, 0, 0],\n",
       "       [0, 0, 0, 0, 0, 0, 0, 0, 0, 0, 0, 0, 0, 0, 0, 0, 0, 0, 0, 0, 0, 0,\n",
       "        0, 0, 0, 0, 0, 0, 0, 0, 0, 0],\n",
       "       [0, 0, 0, 0, 0, 0, 0, 0, 0, 0, 0, 0, 0, 0, 0, 0, 0, 0, 0, 0, 0, 0,\n",
       "        0, 0, 0, 0, 0, 0, 0, 0, 0, 0],\n",
       "       [0, 0, 0, 1, 0, 0, 0, 1, 0, 0, 0, 1, 0, 0, 0, 1, 0, 0, 0, 1, 0, 0,\n",
       "        0, 1, 0, 0, 0, 1, 0, 0, 0, 1],\n",
       "       [0, 0, 0, 0, 0, 0, 0, 0, 0, 0, 0, 0, 0, 0, 0, 0, 0, 0, 0, 0, 0, 0,\n",
       "        0, 0, 0, 0, 0, 0, 0, 0, 0, 0],\n",
       "       [0, 1, 0, 1, 0, 1, 1, 0, 1, 1, 0, 1, 0, 1, 1, 0, 1, 1, 0, 1, 0, 1,\n",
       "        1, 0, 1, 1, 0, 1, 0, 1, 1, 0]])"
      ]
     },
     "execution_count": 50,
     "metadata": {},
     "output_type": "execute_result"
    }
   ],
   "source": [
    "test[0]"
   ]
  },
  {
   "cell_type": "code",
   "execution_count": 51,
   "metadata": {},
   "outputs": [],
   "source": [
    "trainn=[]\n",
    "testn=[]\n",
    "\n",
    "for i in range(10000,10100):\n",
    "    trainn.append(pd.read_csv('./masked_dataset/beat/'+str(i)+'.csv.gzip', compression='gzip').to_numpy())\n",
    "    testn.append(pd.read_csv('./dataset/beat/'+str(i)+'.csv.gzip', compression='gzip').to_numpy())\n",
    "    "
   ]
  },
  {
   "cell_type": "code",
   "execution_count": 52,
   "metadata": {},
   "outputs": [],
   "source": [
    "trainn = np.array(trainn)\n",
    "testn = np.array(testn) "
   ]
  },
  {
   "cell_type": "code",
   "execution_count": 53,
   "metadata": {},
   "outputs": [
    {
     "name": "stdout",
     "output_type": "stream",
     "text": [
      "4/4 [==============================] - 0s 15ms/step\n"
     ]
    }
   ],
   "source": [
    "asdf = model.predict(trainn)\n",
    "\n",
    "asdf = asdf.round()"
   ]
  },
  {
   "cell_type": "code",
   "execution_count": 54,
   "metadata": {},
   "outputs": [
    {
     "name": "stdout",
     "output_type": "stream",
     "text": [
      "4/4 [==============================] - 0s 17ms/step - loss: 0.0294\n"
     ]
    },
    {
     "name": "stderr",
     "output_type": "stream",
     "text": [
      "2022-08-03 14:17:48.334456: I tensorflow/core/grappler/optimizers/custom_graph_optimizer_registry.cc:113] Plugin optimizer for device_type GPU is enabled.\n"
     ]
    },
    {
     "data": {
      "text/plain": [
       "0.029382377862930298"
      ]
     },
     "execution_count": 54,
     "metadata": {},
     "output_type": "execute_result"
    }
   ],
   "source": [
    "model.evaluate(trainn, testn)"
   ]
  },
  {
   "cell_type": "code",
   "execution_count": 60,
   "metadata": {},
   "outputs": [
    {
     "name": "stdout",
     "output_type": "stream",
     "text": [
      "[[0 1 0 0 0 0 1 0 0 1 0 0 0 0 1 0 0 1 0 0 0 0 1 0 0 1 0 0 0 0 1 0]\n",
      " [0 0 0 0 1 0 0 1 0 0 1 0 0 1 0 1 0 0 1 1 0 1 0 1 0 0 0 0 0 1 0 1]\n",
      " [0 0 0 0 0 0 0 0 0 0 0 0 0 0 0 0 0 0 0 0 0 0 0 0 0 0 0 0 0 0 0 0]\n",
      " [0 0 0 0 0 0 0 0 0 0 0 0 0 0 0 0 0 0 0 0 0 0 0 0 0 0 0 0 0 0 0 0]\n",
      " [0 0 0 0 0 0 0 0 0 0 0 0 0 0 0 0 0 0 0 0 0 0 0 0 0 0 0 0 0 0 0 0]\n",
      " [0 0 0 0 0 0 0 0 0 0 0 0 0 0 0 0 0 0 0 0 0 0 0 0 0 0 0 0 0 0 0 0]\n",
      " [1 0 0 0 1 0 0 0 1 0 0 0 1 0 0 0 1 0 0 0 0 0 0 0 1 0 0 0 1 0 0 0]\n",
      " [0 0 0 0 0 0 0 0 0 0 0 0 0 0 0 0 0 0 0 0 0 0 0 0 0 0 0 0 0 0 0 0]\n",
      " [1 0 0 1 1 0 1 0 1 0 1 1 1 0 1 0 1 0 1 1 0 0 1 0 1 0 0 1 1 0 1 1]]\n",
      "----------\n",
      "[[0 1 0 0 0 0 1 0 0 1 0 0 0 0 1 0 0 1 0 0 0 0 1 0 0 1 0 0 0 0 1 0]\n",
      " [0 0 0 0 0 1 0 1 0 0 1 0 0 1 0 1 0 0 1 1 0 1 0 1 0 0 0 0 0 1 0 1]\n",
      " [0 0 0 0 0 0 0 0 0 0 0 0 0 0 0 0 0 0 0 0 0 0 0 0 0 0 0 0 0 0 0 0]\n",
      " [0 0 0 0 0 0 0 0 0 0 0 0 0 0 0 0 0 0 0 0 0 0 0 0 0 0 0 0 0 0 0 0]\n",
      " [0 0 0 0 0 0 0 0 0 0 0 0 0 0 0 0 0 0 0 0 0 0 0 0 0 0 0 0 0 0 0 0]\n",
      " [0 0 0 0 0 0 0 0 0 0 0 0 0 0 0 0 0 0 0 0 0 0 0 0 0 0 0 0 0 0 0 0]\n",
      " [1 0 0 0 1 0 0 0 1 0 0 0 1 0 0 0 1 0 0 0 1 0 0 0 1 0 0 0 1 0 0 0]\n",
      " [0 0 0 0 0 0 0 0 0 0 0 0 0 0 0 0 0 0 0 0 0 0 0 0 0 0 0 0 0 0 0 0]\n",
      " [1 0 1 1 1 0 1 0 1 0 1 1 1 0 1 0 1 0 1 1 1 0 1 0 1 0 0 1 1 0 1 1]]\n",
      "----------\n",
      "[[0 1 0 0 0 0 1 0 0 1 0 0 0 0 1 0 0 1 0 0 0 0 1 0 0 1 0 0 0 0 1 0]\n",
      " [0 0 0 0 1 0 0 1 0 0 1 0 0 1 0 1 0 0 1 1 0 1 0 1 0 0 1 0 0 1 0 1]\n",
      " [0 0 0 0 0 0 0 0 0 0 0 0 0 0 0 0 0 0 0 0 0 0 0 0 0 0 0 0 0 0 0 0]\n",
      " [0 0 0 0 0 0 0 0 0 0 0 0 0 0 0 0 0 0 0 0 0 0 0 0 0 0 0 0 0 0 0 0]\n",
      " [0 0 0 0 0 0 0 0 0 0 0 0 0 0 0 0 0 0 0 0 0 0 0 0 0 0 0 0 0 0 0 0]\n",
      " [0 0 0 0 0 0 0 0 0 0 0 0 0 0 0 0 0 0 0 0 0 0 0 0 0 0 0 0 0 0 0 0]\n",
      " [1 0 0 0 1 0 0 0 1 0 0 0 1 0 0 0 1 0 0 0 1 0 0 0 1 0 0 0 1 0 0 0]\n",
      " [0 0 0 0 0 0 0 0 0 0 0 0 0 0 0 0 0 0 0 0 0 0 0 0 0 0 0 0 0 0 0 0]\n",
      " [1 0 1 1 1 0 1 0 1 0 1 1 1 0 1 0 1 0 1 1 1 0 1 0 1 0 1 1 1 0 1 1]]\n"
     ]
    }
   ],
   "source": [
    "i = 50\n",
    "print(trainn[i])\n",
    "print('-'*10)\n",
    "print(asdf[i].astype(int))\n",
    "print('-'*10)\n",
    "print(testn[i])"
   ]
  },
  {
   "cell_type": "code",
   "execution_count": 33,
   "metadata": {},
   "outputs": [
    {
     "data": {
      "text/plain": [
       "numpy.ndarray"
      ]
     },
     "execution_count": 33,
     "metadata": {},
     "output_type": "execute_result"
    }
   ],
   "source": [
    "type(asdf)"
   ]
  },
  {
   "cell_type": "code",
   "execution_count": null,
   "metadata": {},
   "outputs": [],
   "source": []
  }
 ],
 "metadata": {
  "kernelspec": {
   "display_name": "Python 3.9.13 ('base')",
   "language": "python",
   "name": "python3"
  },
  "language_info": {
   "codemirror_mode": {
    "name": "ipython",
    "version": 3
   },
   "file_extension": ".py",
   "mimetype": "text/x-python",
   "name": "python",
   "nbconvert_exporter": "python",
   "pygments_lexer": "ipython3",
   "version": "3.9.13"
  },
  "orig_nbformat": 4,
  "vscode": {
   "interpreter": {
    "hash": "36975e2464779a1907498622a1ff8d141cf5663f65c7cf0c02ae689c8b788bad"
   }
  }
 },
 "nbformat": 4,
 "nbformat_minor": 2
}
