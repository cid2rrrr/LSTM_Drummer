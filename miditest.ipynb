{
 "cells": [
  {
   "cell_type": "code",
   "execution_count": 20,
   "metadata": {},
   "outputs": [],
   "source": [
    "from mido import MidiFile"
   ]
  },
  {
   "cell_type": "code",
   "execution_count": 29,
   "metadata": {},
   "outputs": [],
   "source": [
    "mid = MidiFile('imsi.mid', clip=True)\n",
    "mid2 = MidiFile('imsi2.mid', clip=True)"
   ]
  },
  {
   "cell_type": "code",
   "execution_count": 22,
   "metadata": {},
   "outputs": [
    {
     "name": "stdout",
     "output_type": "stream",
     "text": [
      "<midi track 'Fill 05 - Groove 03 - 8th Closed Hi-Hat - 4/4CH1' 34 messages>\n"
     ]
    }
   ],
   "source": [
    "for track in mid.tracks:\n",
    "    print(track)"
   ]
  },
  {
   "cell_type": "code",
   "execution_count": 31,
   "metadata": {},
   "outputs": [
    {
     "name": "stdout",
     "output_type": "stream",
     "text": [
      "<meta message track_name name='Fill 05 - Groove 03 - 8th Closed Hi-Hat - 4/4CH1' time=0>\n",
      "note_on channel=0 note=36 velocity=100 time=0\n",
      "note_off channel=0 note=36 velocity=100 time=56\n",
      "note_on channel=0 note=36 velocity=102 time=394\n",
      "note_on channel=0 note=38 velocity=100 time=43\n",
      "note_off channel=0 note=38 velocity=100 time=59\n",
      "note_off channel=0 note=36 velocity=102 time=18\n",
      "note_on channel=0 note=42 velocity=60 time=145\n",
      "note_off channel=0 note=42 velocity=60 time=58\n",
      "note_on channel=0 note=42 velocity=102 time=60\n",
      "note_on channel=0 note=36 velocity=64 time=77\n",
      "note_off channel=0 note=42 velocity=102 time=43\n",
      "note_on channel=0 note=36 velocity=102 time=8\n",
      "note_off channel=0 note=36 velocity=64 time=7\n",
      "note_on channel=0 note=42 velocity=102 time=8\n",
      "note_off channel=0 note=36 velocity=102 time=105\n",
      "note_off channel=0 note=42 velocity=102 time=15\n",
      "note_on channel=0 note=42 velocity=102 time=24\n",
      "note_on channel=0 note=36 velocity=100 time=78\n",
      "note_off channel=0 note=42 velocity=102 time=42\n",
      "note_off channel=0 note=36 velocity=100 time=16\n",
      "note_on channel=0 note=42 velocity=106 time=26\n",
      "note_off channel=0 note=42 velocity=106 time=58\n",
      "note_on channel=0 note=38 velocity=100 time=98\n",
      "note_on channel=0 note=42 velocity=100 time=0\n",
      "note_off channel=0 note=42 velocity=100 time=58\n",
      "note_off channel=0 note=38 velocity=100 time=60\n",
      "note_on channel=0 note=36 velocity=80 time=122\n",
      "note_on channel=0 note=42 velocity=104 time=3\n",
      "note_off channel=0 note=36 velocity=80 time=55\n",
      "note_off channel=0 note=42 velocity=104 time=65\n",
      "note_on channel=0 note=42 velocity=87 time=2\n",
      "note_off channel=0 note=42 velocity=87 time=58\n",
      "<meta message end_of_track time=0>\n"
     ]
    }
   ],
   "source": [
    "for msg in mid2.tracks[0]:\n",
    "    # if str(msg)[:7] == 'note_on' :\n",
    "        print(msg)\n"
   ]
  },
  {
   "cell_type": "code",
   "execution_count": 35,
   "metadata": {},
   "outputs": [
    {
     "data": {
      "text/plain": [
       "1"
      ]
     },
     "execution_count": 35,
     "metadata": {},
     "output_type": "execute_result"
    }
   ],
   "source": [
    "mid.type"
   ]
  },
  {
   "cell_type": "code",
   "execution_count": 32,
   "metadata": {},
   "outputs": [
    {
     "name": "stdout",
     "output_type": "stream",
     "text": [
      "<meta message track_name name='Fill 05 - Groove 03 - 8th Closed Hi-Hat - 4/4CH1' time=0>\n",
      "note_on channel=0 note=36 velocity=100 time=0\n",
      "note_off channel=0 note=36 velocity=100 time=56\n",
      "note_on channel=0 note=36 velocity=102 time=394\n",
      "note_on channel=0 note=38 velocity=100 time=44\n",
      "note_off channel=0 note=38 velocity=100 time=58\n",
      "note_off channel=0 note=36 velocity=102 time=18\n",
      "note_on channel=0 note=42 velocity=60 time=145\n",
      "note_off channel=0 note=42 velocity=60 time=58\n",
      "note_on channel=0 note=42 velocity=102 time=60\n",
      "note_on channel=0 note=36 velocity=64 time=77\n",
      "note_off channel=0 note=42 velocity=102 time=43\n",
      "note_on channel=0 note=36 velocity=102 time=8\n",
      "note_off channel=0 note=36 velocity=64 time=7\n",
      "note_on channel=0 note=42 velocity=102 time=8\n",
      "note_off channel=0 note=36 velocity=102 time=105\n",
      "note_off channel=0 note=42 velocity=102 time=15\n",
      "note_on channel=0 note=42 velocity=102 time=24\n",
      "note_on channel=0 note=36 velocity=100 time=78\n",
      "note_off channel=0 note=42 velocity=102 time=42\n",
      "note_off channel=0 note=36 velocity=100 time=16\n",
      "note_on channel=0 note=42 velocity=106 time=26\n",
      "note_off channel=0 note=42 velocity=106 time=58\n",
      "note_on channel=0 note=38 velocity=100 time=98\n",
      "note_on channel=0 note=42 velocity=100 time=0\n",
      "note_off channel=0 note=42 velocity=100 time=58\n",
      "note_off channel=0 note=38 velocity=100 time=60\n",
      "note_on channel=0 note=36 velocity=80 time=122\n",
      "note_on channel=0 note=42 velocity=104 time=3\n",
      "note_off channel=0 note=36 velocity=80 time=55\n",
      "note_off channel=0 note=42 velocity=104 time=65\n",
      "note_on channel=0 note=42 velocity=87 time=2\n",
      "note_off channel=0 note=42 velocity=87 time=58\n",
      "<meta message end_of_track time=0>\n"
     ]
    }
   ],
   "source": [
    "for msg in mid.tracks[0]:\n",
    "    # if str(msg)[:7] == 'note_on' :\n",
    "        print(msg)\n"
   ]
  },
  {
   "cell_type": "code",
   "execution_count": 5,
   "metadata": {},
   "outputs": [],
   "source": [
    "from midiutil.MidiFile import MIDIFile"
   ]
  },
  {
   "cell_type": "code",
   "execution_count": 16,
   "metadata": {},
   "outputs": [],
   "source": [
    "mf = MIDIFile(1)"
   ]
  },
  {
   "cell_type": "code",
   "execution_count": 17,
   "metadata": {},
   "outputs": [],
   "source": [
    "track = 0\n",
    "time = 0\n",
    "\n",
    "mf.addTrackName(track, time, \"ismi\")\n",
    "mf.addTempo(track, time, 80)"
   ]
  },
  {
   "cell_type": "code",
   "execution_count": 18,
   "metadata": {},
   "outputs": [],
   "source": [
    "channel = 0\n",
    "velocity = 127\n",
    "\n",
    "pitch = 40\n",
    "time = 0\n",
    "duration = 1\n",
    "mf.addNote(track, channel, pitch, time, duration, velocity)\n",
    "\n",
    "pitch = 60\n",
    "time = 0.65\n",
    "duration = 2\n",
    "mf.addNote(track, channel, pitch, time, duration, velocity)"
   ]
  },
  {
   "cell_type": "code",
   "execution_count": 19,
   "metadata": {},
   "outputs": [],
   "source": [
    "with open('test.mid', 'wb') as outf:\n",
    "    mf.writeFile(outf)"
   ]
  },
  {
   "cell_type": "code",
   "execution_count": 1,
   "metadata": {},
   "outputs": [],
   "source": [
    "from mido import Message, MidiFile, MidiTrack\n",
    "\n",
    "asdf = MidiFile()\n",
    "track = MidiTrack()\n",
    "asdf.tracks.append(track)\n",
    "\n",
    "track.append(Message('note_on', note=36, velocity=100, time=0))\n",
    "track.append(Message('note_off', note=36, velocity=100, time=56))\n",
    "track.append(Message('note_on', note=36, velocity=102, time=394))\n",
    "track.append(Message('note_on', note=38, velocity=100, time=44))\n",
    "track.append(Message('note_off', note=38, velocity=100, time=58))\n",
    "track.append(Message('note_off', note=36, velocity=102, time=18))\n",
    "\n",
    "asdf.save('asdfasdf.mid')"
   ]
  },
  {
   "cell_type": "code",
   "execution_count": null,
   "metadata": {},
   "outputs": [],
   "source": []
  }
 ],
 "metadata": {
  "kernelspec": {
   "display_name": "Python 3.10.5 ('imsi')",
   "language": "python",
   "name": "python3"
  },
  "language_info": {
   "codemirror_mode": {
    "name": "ipython",
    "version": 3
   },
   "file_extension": ".py",
   "mimetype": "text/x-python",
   "name": "python",
   "nbconvert_exporter": "python",
   "pygments_lexer": "ipython3",
   "version": "3.10.5"
  },
  "orig_nbformat": 4,
  "vscode": {
   "interpreter": {
    "hash": "0b3faf04655ccc4ecfe8bdf833e2ffc44624bb3f00a3c0d2867bdb4af62c899b"
   }
  }
 },
 "nbformat": 4,
 "nbformat_minor": 2
}
