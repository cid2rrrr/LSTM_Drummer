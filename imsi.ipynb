{
 "cells": [
  {
   "cell_type": "code",
   "execution_count": 1,
   "metadata": {},
   "outputs": [],
   "source": [
    "import tensorflow as tf\n",
    "import numpy as np\n",
    "import pandas as pd\n",
    "\n",
    "from tensorflow.keras.layers import Dense, LSTM, Input, TimeDistributed, Bidirectional, Activation\n",
    "from tensorflow.keras.regularizers import l2\n",
    "from tensorflow.keras.models import Model"
   ]
  },
  {
   "cell_type": "code",
   "execution_count": 13,
   "metadata": {},
   "outputs": [],
   "source": [
    "seven_kind_arr = [\n",
    "   # bd sn mt lt oh ch ri \n",
    "    [1, 0, 0, 0, 0, 0, 0], #0\n",
    "    [0, 1, 0, 0, 0, 0, 0], #1\n",
    "    [0, 0, 1, 0, 0, 0, 0], #2\n",
    "    [0, 0, 0, 1, 0, 0, 0], #3\n",
    "    [0, 0, 0, 0, 1, 0, 0], #4\n",
    "    [0, 0, 0, 0, 0, 1, 0], #5\n",
    "    [0, 0, 0, 0, 0, 0, 1], #6\n",
    "    [1, 0, 0, 0, 0, 1, 0], #7\n",
    "    [1, 0, 0, 0, 1, 0, 0], #8\n",
    "    [1, 0, 0, 0, 0, 0, 1], #9\n",
    "    [1, 0, 0, 1, 0, 0, 0], #10\n",
    "    [1, 1, 0, 0, 0, 0, 0], #11\n",
    "    [0, 1, 0, 0, 0, 1, 0], #12\n",
    "    [0, 1, 0, 0, 1, 0, 0], #13\n",
    "    [0, 1, 0, 0, 0, 0, 1], #14\n",
    "    [0, 1, 0, 1, 0, 0, 0], #15\n",
    "    [0, 1, 0, 0, 0, 0, 1], #16\n",
    "    [0, 0, 1, 1, 0, 0, 0], #17\n",
    "    [1, 1, 0, 0, 0, 1, 0], #18\n",
    "    [1, 1, 0, 0, 1, 0, 0], #19\n",
    "    [1, 1, 0, 0, 0, 0, 1], #20\n",
    "    [0, 0, 0, 0, 0, 0, 0]\n",
    "]\n"
   ]
  },
  {
   "cell_type": "code",
   "execution_count": 28,
   "metadata": {},
   "outputs": [],
   "source": [
    "data = []\n",
    "\n",
    "for i in range(1,6101):\n",
    "    imsi = pd.read_csv('./single_label_dataset/' + str(i) + '.csv.gzip', compression='gzip').to_numpy()\n",
    "    tmp = []\n",
    "    for i in imsi:\n",
    "        tmp.append(seven_kind_arr[np.where(i == 1)[0][0]])\n",
    "    data.append(np.array(tmp))"
   ]
  },
  {
   "cell_type": "code",
   "execution_count": 27,
   "metadata": {},
   "outputs": [
    {
     "data": {
      "text/plain": [
       "12"
      ]
     },
     "execution_count": 27,
     "metadata": {},
     "output_type": "execute_result"
    }
   ],
   "source": [
    "np.where(imsi[0] == 1)[0][0]"
   ]
  },
  {
   "cell_type": "code",
   "execution_count": 29,
   "metadata": {},
   "outputs": [],
   "source": [
    "data = np.array(data)"
   ]
  },
  {
   "cell_type": "code",
   "execution_count": 241,
   "metadata": {},
   "outputs": [
    {
     "name": "stdout",
     "output_type": "stream",
     "text": [
      "[[0 0 0 0 0 0 0]\n",
      " [0 1 0 0 0 1 0]\n",
      " [0 0 0 0 0 0 0]\n",
      " [0 0 0 0 0 1 0]\n",
      " [0 1 0 0 0 0 0]\n",
      " [0 0 0 0 0 1 0]\n",
      " [0 1 0 0 0 0 0]\n",
      " [1 0 0 0 1 0 0]\n",
      " [0 0 0 0 0 0 0]\n",
      " [0 1 0 0 0 1 0]\n",
      " [0 0 0 0 0 0 0]\n",
      " [0 0 0 0 0 1 0]\n",
      " [0 1 0 0 0 0 0]\n",
      " [1 0 0 0 0 1 0]\n",
      " [0 0 0 0 0 0 0]\n",
      " [1 0 0 0 0 1 0]\n",
      " [0 0 0 0 0 0 0]\n",
      " [0 1 0 0 0 1 0]\n",
      " [0 0 0 0 0 0 0]\n",
      " [0 0 0 0 0 1 0]\n",
      " [0 1 0 0 0 0 0]\n",
      " [0 0 0 0 0 1 0]\n",
      " [0 1 0 0 0 0 0]\n",
      " [1 0 0 0 1 0 0]\n",
      " [0 0 0 0 0 0 0]\n",
      " [0 1 0 0 0 1 0]\n",
      " [0 0 0 0 0 0 0]\n",
      " [0 0 0 0 0 1 0]\n",
      " [0 1 0 0 0 0 0]\n",
      " [1 0 0 0 0 1 0]\n",
      " [0 0 0 0 0 0 0]\n",
      " [1 0 0 0 0 1 0]\n",
      " [0 0 0 0 0 0 0]\n",
      " [0 1 0 0 0 1 0]\n",
      " [0 0 0 0 0 0 0]\n",
      " [0 0 0 0 0 1 0]\n",
      " [0 1 0 0 0 0 0]\n",
      " [0 0 0 0 0 1 0]\n",
      " [0 1 0 0 0 0 0]\n",
      " [1 0 0 0 1 0 0]\n",
      " [0 0 0 0 0 0 0]\n",
      " [0 1 0 0 0 1 0]\n",
      " [0 0 0 0 0 0 0]\n",
      " [0 0 0 0 0 1 0]\n",
      " [0 1 0 0 0 0 0]\n",
      " [1 0 0 0 0 1 0]\n",
      " [0 0 0 0 0 0 0]\n",
      " [1 0 0 0 0 1 0]\n",
      " [0 0 0 0 0 0 0]\n",
      " [0 1 0 0 0 1 0]\n",
      " [0 0 0 0 0 0 0]\n",
      " [0 0 0 0 0 1 0]\n",
      " [0 1 0 0 0 0 0]\n",
      " [0 0 0 0 0 1 0]\n",
      " [0 1 0 0 0 0 0]\n",
      " [1 0 0 0 0 1 0]\n",
      " [0 0 0 0 0 0 0]\n",
      " [0 1 0 0 0 1 0]\n",
      " [0 0 0 0 0 0 0]\n",
      " [0 0 0 0 0 1 0]\n",
      " [0 1 0 0 0 0 0]\n",
      " [1 0 0 0 0 1 0]\n",
      " [0 0 0 0 0 0 0]]\n",
      "----------\n",
      "----------\n",
      "----------\n",
      "----------\n",
      "----------\n",
      "----------\n",
      "----------\n",
      "----------\n",
      "----------\n",
      "[1 0 0 0 0 1 0]\n"
     ]
    }
   ],
   "source": [
    "i = 1780\n",
    "print(data[i][:63])\n",
    "print('----------')\n",
    "print('----------')\n",
    "print('----------')\n",
    "print('----------')\n",
    "print('----------')\n",
    "print('----------')\n",
    "print('----------')\n",
    "print('----------')\n",
    "print('----------')\n",
    "print(data[i][-1])"
   ]
  },
  {
   "cell_type": "code",
   "execution_count": 249,
   "metadata": {},
   "outputs": [
    {
     "data": {
      "text/plain": [
       "(32, 23)"
      ]
     },
     "execution_count": 249,
     "metadata": {},
     "output_type": "execute_result"
    }
   ],
   "source": [
    "pd.read_csv('./single_label_dataset/beat/1.csv.gzip', compression='gzip').to_numpy().shape"
   ]
  },
  {
   "cell_type": "code",
   "execution_count": null,
   "metadata": {},
   "outputs": [],
   "source": []
  }
 ],
 "metadata": {
  "kernelspec": {
   "display_name": "Python 3.9.12 ('spleeter')",
   "language": "python",
   "name": "python3"
  },
  "language_info": {
   "codemirror_mode": {
    "name": "ipython",
    "version": 3
   },
   "file_extension": ".py",
   "mimetype": "text/x-python",
   "name": "python",
   "nbconvert_exporter": "python",
   "pygments_lexer": "ipython3",
   "version": "3.9.12"
  },
  "orig_nbformat": 4,
  "vscode": {
   "interpreter": {
    "hash": "3b3c401dacfab8a690b1a7de6c6a9edd3269fc10d243267328a900f27334b3a4"
   }
  }
 },
 "nbformat": 4,
 "nbformat_minor": 2
}
