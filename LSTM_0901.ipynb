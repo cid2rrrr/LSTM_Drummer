{
 "cells": [
  {
   "cell_type": "code",
   "execution_count": 2,
   "metadata": {},
   "outputs": [],
   "source": [
    "import tensorflow as tf\n",
    "import numpy as np\n",
    "import pandas as pd\n",
    "\n",
    "from tensorflow.keras.layers import Dense, LSTM, Input, TimeDistributed\n",
    "from tensorflow.keras.models import Model"
   ]
  },
  {
   "cell_type": "code",
   "execution_count": 5,
   "metadata": {},
   "outputs": [],
   "source": [
    "train_x = []\n",
    "train_y = []\n",
    "\n",
    "for i in range(1,5001):\n",
    "    tmp = pd.read_csv('./single_label_dataset/' + str(i) + '.csv.gzip', compression='gzip').to_numpy()\n",
    "    train_x.append(tmp[:63])\n",
    "    train_y.append(tmp[-1])\n",
    "\n",
    "train_x = np.array(train_x)\n",
    "train_y = np.array(train_y)\n",
    "\n"
   ]
  },
  {
   "cell_type": "code",
   "execution_count": 6,
   "metadata": {},
   "outputs": [
    {
     "data": {
      "text/plain": [
       "(5000, 63, 22)"
      ]
     },
     "execution_count": 6,
     "metadata": {},
     "output_type": "execute_result"
    }
   ],
   "source": [
    "train_x.shape"
   ]
  },
  {
   "cell_type": "code",
   "execution_count": 15,
   "metadata": {},
   "outputs": [
    {
     "name": "stdout",
     "output_type": "stream",
     "text": [
      "WARNING:tensorflow:Layer lstm_4 will not use cuDNN kernels since it doesn't meet the criteria. It will use a generic GPU kernel as fallback when running on GPU.\n"
     ]
    }
   ],
   "source": [
    "model = tf.keras.models.Sequential()\n",
    "model.add(LSTM(units=22, activation='softmax', input_shape=(63,22), dropout=0.3, recurrent_dropout=0.3))"
   ]
  },
  {
   "cell_type": "code",
   "execution_count": 16,
   "metadata": {},
   "outputs": [],
   "source": [
    "model.compile(loss = tf.keras.losses.CategoricalCrossentropy(), optimizer=tf.keras.optimizers.Adam(), metrics=['accuracy'])\n",
    "callback = tf.keras.callbacks.EarlyStopping(monitor='val_accuracy', patience=7)"
   ]
  },
  {
   "cell_type": "code",
   "execution_count": 17,
   "metadata": {},
   "outputs": [
    {
     "name": "stdout",
     "output_type": "stream",
     "text": [
      "Epoch 1/4000\n",
      "141/141 [==============================] - 50s 347ms/step - loss: 2.9851 - accuracy: 0.2080 - val_loss: 2.8770 - val_accuracy: 0.1960\n",
      "Epoch 2/4000\n",
      "141/141 [==============================] - 50s 354ms/step - loss: 2.7405 - accuracy: 0.3002 - val_loss: 2.6003 - val_accuracy: 0.3260\n",
      "Epoch 3/4000\n",
      "141/141 [==============================] - 50s 351ms/step - loss: 2.4081 - accuracy: 0.3329 - val_loss: 2.2661 - val_accuracy: 0.3360\n",
      "Epoch 4/4000\n",
      "141/141 [==============================] - 49s 348ms/step - loss: 2.1716 - accuracy: 0.3840 - val_loss: 2.1701 - val_accuracy: 0.3660\n",
      "Epoch 5/4000\n",
      "141/141 [==============================] - 49s 349ms/step - loss: 2.0976 - accuracy: 0.3940 - val_loss: 2.1027 - val_accuracy: 0.3660\n",
      "Epoch 6/4000\n",
      "141/141 [==============================] - 50s 353ms/step - loss: 2.0355 - accuracy: 0.3976 - val_loss: 2.0558 - val_accuracy: 0.3720\n",
      "Epoch 7/4000\n",
      "141/141 [==============================] - 49s 351ms/step - loss: 1.9933 - accuracy: 0.4007 - val_loss: 2.0291 - val_accuracy: 0.3820\n",
      "Epoch 8/4000\n",
      "141/141 [==============================] - 49s 349ms/step - loss: 1.9665 - accuracy: 0.4042 - val_loss: 2.0084 - val_accuracy: 0.3820\n",
      "Epoch 9/4000\n",
      "141/141 [==============================] - 50s 352ms/step - loss: 1.9469 - accuracy: 0.4044 - val_loss: 1.9822 - val_accuracy: 0.3840\n",
      "Epoch 10/4000\n",
      "141/141 [==============================] - 50s 352ms/step - loss: 1.9309 - accuracy: 0.4040 - val_loss: 1.9479 - val_accuracy: 0.3820\n",
      "Epoch 11/4000\n",
      "141/141 [==============================] - 50s 352ms/step - loss: 1.9064 - accuracy: 0.4033 - val_loss: 1.9085 - val_accuracy: 0.3900\n",
      "Epoch 12/4000\n",
      "141/141 [==============================] - 49s 349ms/step - loss: 1.8838 - accuracy: 0.4093 - val_loss: 1.8789 - val_accuracy: 0.4000\n",
      "Epoch 13/4000\n",
      "141/141 [==============================] - 50s 353ms/step - loss: 1.8687 - accuracy: 0.4113 - val_loss: 1.8610 - val_accuracy: 0.4060\n",
      "Epoch 14/4000\n",
      "141/141 [==============================] - 50s 356ms/step - loss: 1.8504 - accuracy: 0.4204 - val_loss: 1.8474 - val_accuracy: 0.4160\n",
      "Epoch 15/4000\n",
      "141/141 [==============================] - 49s 351ms/step - loss: 1.8410 - accuracy: 0.4160 - val_loss: 1.8323 - val_accuracy: 0.4200\n",
      "Epoch 16/4000\n",
      "141/141 [==============================] - 49s 347ms/step - loss: 1.8305 - accuracy: 0.4147 - val_loss: 1.8239 - val_accuracy: 0.4140\n",
      "Epoch 17/4000\n",
      "141/141 [==============================] - 49s 350ms/step - loss: 1.8184 - accuracy: 0.4200 - val_loss: 1.8099 - val_accuracy: 0.4200\n",
      "Epoch 18/4000\n",
      "141/141 [==============================] - 50s 357ms/step - loss: 1.8095 - accuracy: 0.4218 - val_loss: 1.8006 - val_accuracy: 0.4200\n",
      "Epoch 19/4000\n",
      "141/141 [==============================] - 49s 351ms/step - loss: 1.8046 - accuracy: 0.4244 - val_loss: 1.7929 - val_accuracy: 0.4240\n",
      "Epoch 20/4000\n",
      "141/141 [==============================] - 50s 352ms/step - loss: 1.7933 - accuracy: 0.4240 - val_loss: 1.7825 - val_accuracy: 0.4320\n",
      "Epoch 21/4000\n",
      "141/141 [==============================] - 50s 354ms/step - loss: 1.7824 - accuracy: 0.4247 - val_loss: 1.7807 - val_accuracy: 0.4340\n",
      "Epoch 22/4000\n",
      "141/141 [==============================] - 50s 357ms/step - loss: 1.7875 - accuracy: 0.4220 - val_loss: 1.7713 - val_accuracy: 0.4240\n",
      "Epoch 23/4000\n",
      "141/141 [==============================] - 49s 350ms/step - loss: 1.7702 - accuracy: 0.4300 - val_loss: 1.7652 - val_accuracy: 0.4340\n",
      "Epoch 24/4000\n",
      "141/141 [==============================] - 50s 356ms/step - loss: 1.7634 - accuracy: 0.4278 - val_loss: 1.7587 - val_accuracy: 0.4380\n",
      "Epoch 25/4000\n",
      "141/141 [==============================] - 49s 349ms/step - loss: 1.7490 - accuracy: 0.4311 - val_loss: 1.7525 - val_accuracy: 0.4320\n",
      "Epoch 26/4000\n",
      "141/141 [==============================] - 50s 356ms/step - loss: 1.7445 - accuracy: 0.4304 - val_loss: 1.7396 - val_accuracy: 0.4300\n",
      "Epoch 27/4000\n",
      "141/141 [==============================] - 49s 348ms/step - loss: 1.7339 - accuracy: 0.4296 - val_loss: 1.7392 - val_accuracy: 0.4340\n",
      "Epoch 28/4000\n",
      "141/141 [==============================] - 50s 354ms/step - loss: 1.7264 - accuracy: 0.4349 - val_loss: 1.7389 - val_accuracy: 0.4360\n",
      "Epoch 29/4000\n",
      "141/141 [==============================] - 49s 347ms/step - loss: 1.7220 - accuracy: 0.4378 - val_loss: 1.7313 - val_accuracy: 0.4420\n",
      "Epoch 30/4000\n",
      "141/141 [==============================] - 50s 354ms/step - loss: 1.7171 - accuracy: 0.4384 - val_loss: 1.7315 - val_accuracy: 0.4280\n",
      "Epoch 31/4000\n",
      "141/141 [==============================] - 50s 354ms/step - loss: 1.7181 - accuracy: 0.4340 - val_loss: 1.7268 - val_accuracy: 0.4380\n",
      "Epoch 32/4000\n",
      "141/141 [==============================] - 49s 348ms/step - loss: 1.7055 - accuracy: 0.4358 - val_loss: 1.7250 - val_accuracy: 0.4420\n",
      "Epoch 33/4000\n",
      "141/141 [==============================] - 50s 354ms/step - loss: 1.6974 - accuracy: 0.4404 - val_loss: 1.7261 - val_accuracy: 0.4380\n",
      "Epoch 34/4000\n",
      "141/141 [==============================] - 49s 349ms/step - loss: 1.6914 - accuracy: 0.4389 - val_loss: 1.7197 - val_accuracy: 0.4420\n",
      "Epoch 35/4000\n",
      "141/141 [==============================] - 50s 355ms/step - loss: 1.6899 - accuracy: 0.4431 - val_loss: 1.7212 - val_accuracy: 0.4380\n",
      "Epoch 36/4000\n",
      "141/141 [==============================] - 49s 350ms/step - loss: 1.6937 - accuracy: 0.4384 - val_loss: 1.7162 - val_accuracy: 0.4440\n",
      "Epoch 37/4000\n",
      "141/141 [==============================] - 50s 354ms/step - loss: 1.6887 - accuracy: 0.4367 - val_loss: 1.7168 - val_accuracy: 0.4420\n",
      "Epoch 38/4000\n",
      "141/141 [==============================] - 50s 354ms/step - loss: 1.6814 - accuracy: 0.4418 - val_loss: 1.7130 - val_accuracy: 0.4480\n",
      "Epoch 39/4000\n",
      "141/141 [==============================] - 50s 355ms/step - loss: 1.6750 - accuracy: 0.4369 - val_loss: 1.7131 - val_accuracy: 0.4440\n",
      "Epoch 40/4000\n",
      "141/141 [==============================] - 50s 355ms/step - loss: 1.6822 - accuracy: 0.4424 - val_loss: 1.7106 - val_accuracy: 0.4440\n",
      "Epoch 41/4000\n",
      "141/141 [==============================] - 50s 353ms/step - loss: 1.6738 - accuracy: 0.4413 - val_loss: 1.7096 - val_accuracy: 0.4440\n",
      "Epoch 42/4000\n",
      "141/141 [==============================] - 50s 355ms/step - loss: 1.6667 - accuracy: 0.4476 - val_loss: 1.7080 - val_accuracy: 0.4480\n",
      "Epoch 43/4000\n",
      "141/141 [==============================] - 50s 354ms/step - loss: 1.6624 - accuracy: 0.4387 - val_loss: 1.7078 - val_accuracy: 0.4440\n",
      "Epoch 44/4000\n",
      "141/141 [==============================] - 50s 353ms/step - loss: 1.6665 - accuracy: 0.4411 - val_loss: 1.7064 - val_accuracy: 0.4360\n",
      "Epoch 45/4000\n",
      "141/141 [==============================] - 49s 350ms/step - loss: 1.6614 - accuracy: 0.4413 - val_loss: 1.7062 - val_accuracy: 0.4440\n"
     ]
    }
   ],
   "source": [
    "with tf.device(\"/gpu:0\"):\n",
    "    model.fit(train_x,train_y, epochs=4000, callbacks=callback, validation_split=0.1)"
   ]
  },
  {
   "cell_type": "code",
   "execution_count": 18,
   "metadata": {},
   "outputs": [],
   "source": [
    "model.save('64.h5')"
   ]
  },
  {
   "cell_type": "code",
   "execution_count": 21,
   "metadata": {},
   "outputs": [],
   "source": [
    "import functools\n",
    "top3_acc = functools.partial(tf.keras.metrics.top_k_categorical_accuracy, k=3)"
   ]
  },
  {
   "cell_type": "markdown",
   "metadata": {},
   "source": [
    "dilla.wav\n"
   ]
  },
  {
   "cell_type": "code",
   "execution_count": 24,
   "metadata": {},
   "outputs": [],
   "source": [
    "truth_loop = [7, 22, 5, 22, 13, 22, 5, 5, 5, 22, 7, 22, 13, 7, 5, 22]\n",
    "\n",
    "prd = [0, 21, 21, 21, 15, 21, 21, 21, 5,  21, 0 , 21, 1 , 0,  21, 21,\\\n",
    "       0, 21, 21, 21, 1,  21, 21, 21, 21, 21, 0 , 21, 1 , 0,  21, 21, \\\n",
    "       0, 21, 21, 21, 1,  21, 21, 21, 5,  21, 0 , 21, 1 , 0,  21, 21, \\\n",
    "       0, 21, 21, 21, 1,  21, 21, 21, 5,  21, 10, 21, 1 , 0,  21, 21, \\\n",
    "       0, 21, 21, 21, 12, 21, 0,  21, 21, 21, 0,  21, 1 , 0,  21, 21, \\\n",
    "       0, 21, 21, 21, 15, 21, 21, 21, 21, 21, 0,  21, 1 , 0,  21, 21, \\\n",
    "       0, 21, 21, 21, 1,  21, 21, 21, 5,  21, 0,  21, 1 , 10, 21, 21, \\\n",
    "       0, 21, 21, 21, 1,  21, 21, 21, 21, 21, 0,  21, 1 , 0,  21, 21, \\\n",
    "       0, 21, 21, 21, 1,  21, 0,  21, 7,  21, 0,  21, 15, 0,  21, 21, \\\n",
    "       0, 21, 21, 21, 1,  21, 21, 21, 21, 21, 0,  21, 1,  0,  21, 21, \\\n",
    "       0, 21, 21, 21, 1,  21, 21, 21, 21, 21, 0,  21, 1,  0,  21, 21, \\\n",
    "       0, 21, 21, 21, 12, 21, 21, 21, 5,  21, 0,  21, 1,  0,  21, 21]\n",
    "\n",
    "ground_truth = [] # loop * 12\n"
   ]
  },
  {
   "cell_type": "code",
   "execution_count": 25,
   "metadata": {},
   "outputs": [],
   "source": [
    "prd_input = np.zeros((prd.__len__(), 22))\n",
    "\n",
    "i = 0\n",
    "for p in prd:\n",
    "    prd_input[i][int(p)] = 1\n",
    "    i += 1\n"
   ]
  },
  {
   "cell_type": "code",
   "execution_count": 26,
   "metadata": {},
   "outputs": [
    {
     "data": {
      "text/plain": [
       "(192, 22)"
      ]
     },
     "execution_count": 26,
     "metadata": {},
     "output_type": "execute_result"
    }
   ],
   "source": [
    "prd_input.shape"
   ]
  },
  {
   "cell_type": "code",
   "execution_count": 28,
   "metadata": {},
   "outputs": [],
   "source": [
    "change = []\n",
    "for i in range(125):\n",
    "    change.append(np.argmax(model.predict(np.expand_dims(prd_input[i:i+63], axis=0))))"
   ]
  },
  {
   "cell_type": "code",
   "execution_count": 29,
   "metadata": {},
   "outputs": [
    {
     "data": {
      "text/plain": [
       "[21,\n",
       " 21,\n",
       " 21,\n",
       " 21,\n",
       " 21,\n",
       " 21,\n",
       " 21,\n",
       " 21,\n",
       " 21,\n",
       " 21,\n",
       " 21,\n",
       " 21,\n",
       " 21,\n",
       " 21,\n",
       " 21,\n",
       " 21,\n",
       " 21,\n",
       " 21,\n",
       " 21,\n",
       " 21,\n",
       " 21,\n",
       " 21,\n",
       " 21,\n",
       " 21,\n",
       " 21,\n",
       " 21,\n",
       " 21,\n",
       " 21,\n",
       " 21,\n",
       " 21,\n",
       " 21,\n",
       " 21,\n",
       " 21,\n",
       " 21,\n",
       " 21,\n",
       " 21,\n",
       " 21,\n",
       " 21,\n",
       " 21,\n",
       " 21,\n",
       " 21,\n",
       " 21,\n",
       " 21,\n",
       " 21,\n",
       " 21,\n",
       " 21,\n",
       " 21,\n",
       " 21,\n",
       " 21,\n",
       " 21,\n",
       " 21,\n",
       " 21,\n",
       " 21,\n",
       " 21,\n",
       " 21,\n",
       " 21,\n",
       " 21,\n",
       " 21,\n",
       " 21,\n",
       " 21,\n",
       " 21,\n",
       " 21,\n",
       " 21,\n",
       " 21,\n",
       " 21,\n",
       " 21,\n",
       " 21,\n",
       " 21,\n",
       " 21,\n",
       " 21,\n",
       " 21,\n",
       " 21,\n",
       " 21,\n",
       " 21,\n",
       " 21,\n",
       " 21,\n",
       " 21,\n",
       " 21,\n",
       " 21,\n",
       " 21,\n",
       " 21,\n",
       " 21,\n",
       " 21,\n",
       " 21,\n",
       " 21,\n",
       " 21,\n",
       " 21,\n",
       " 21,\n",
       " 21,\n",
       " 21,\n",
       " 21,\n",
       " 21,\n",
       " 21,\n",
       " 21,\n",
       " 21,\n",
       " 21,\n",
       " 21,\n",
       " 21,\n",
       " 21,\n",
       " 21,\n",
       " 21,\n",
       " 21,\n",
       " 21,\n",
       " 21,\n",
       " 21,\n",
       " 21,\n",
       " 21,\n",
       " 21,\n",
       " 21,\n",
       " 21,\n",
       " 21,\n",
       " 21,\n",
       " 21,\n",
       " 21,\n",
       " 21,\n",
       " 21,\n",
       " 21,\n",
       " 21,\n",
       " 21,\n",
       " 21,\n",
       " 21,\n",
       " 21,\n",
       " 21,\n",
       " 21,\n",
       " 21]"
      ]
     },
     "execution_count": 29,
     "metadata": {},
     "output_type": "execute_result"
    }
   ],
   "source": [
    "change"
   ]
  },
  {
   "cell_type": "code",
   "execution_count": 51,
   "metadata": {},
   "outputs": [],
   "source": [
    "cnt = 0\n",
    "asdf = 0\n",
    "for i in train_y:\n",
    "    cnt += 1\n",
    "    if np.argmax(i) == 22:\n",
    "        asdf += 1"
   ]
  },
  {
   "cell_type": "code",
   "execution_count": 53,
   "metadata": {},
   "outputs": [
    {
     "data": {
      "text/plain": [
       "903"
      ]
     },
     "execution_count": 53,
     "metadata": {},
     "output_type": "execute_result"
    }
   ],
   "source": [
    "asdf"
   ]
  },
  {
   "cell_type": "code",
   "execution_count": null,
   "metadata": {},
   "outputs": [],
   "source": []
  }
 ],
 "metadata": {
  "kernelspec": {
   "display_name": "Python 3.9.12 ('spleeter')",
   "language": "python",
   "name": "python3"
  },
  "language_info": {
   "codemirror_mode": {
    "name": "ipython",
    "version": 3
   },
   "file_extension": ".py",
   "mimetype": "text/x-python",
   "name": "python",
   "nbconvert_exporter": "python",
   "pygments_lexer": "ipython3",
   "version": "3.9.12"
  },
  "orig_nbformat": 4,
  "vscode": {
   "interpreter": {
    "hash": "3b3c401dacfab8a690b1a7de6c6a9edd3269fc10d243267328a900f27334b3a4"
   }
  }
 },
 "nbformat": 4,
 "nbformat_minor": 2
}
